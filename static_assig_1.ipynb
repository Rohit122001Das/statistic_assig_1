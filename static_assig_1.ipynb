{
 "cells": [
  {
   "cell_type": "markdown",
   "id": "e9cb87ab-6142-4cc3-ab73-caed35234097",
   "metadata": {},
   "source": [
    "# Quetion no. 1"
   ]
  },
  {
   "cell_type": "code",
   "execution_count": null,
   "id": "e5bc0fd0-f6e2-46df-bc53-57e8953db4eb",
   "metadata": {},
   "outputs": [],
   "source": [
    " What is Statistics?"
   ]
  },
  {
   "cell_type": "code",
   "execution_count": null,
   "id": "8fb2fe39-c4d9-4d1c-b11f-25053bdbaae0",
   "metadata": {},
   "outputs": [],
   "source": [
    "Ans >  Statistic is the scieece of collecting the , organazing and analyzing of data "
   ]
  },
  {
   "cell_type": "markdown",
   "id": "9b95c681-8905-43ff-9a67-83ca195f41bc",
   "metadata": {},
   "source": [
    "# Quetion no. 2"
   ]
  },
  {
   "cell_type": "code",
   "execution_count": null,
   "id": "cc4e0102-8e68-439f-b3b4-62f8db550d22",
   "metadata": {},
   "outputs": [],
   "source": [
    "  Define the different types of statistics and give an example of when each type might be used."
   ]
  },
  {
   "cell_type": "code",
   "execution_count": null,
   "id": "0da88fd8-aade-4761-a54b-199778381dcd",
   "metadata": {},
   "outputs": [],
   "source": [
    "Ans > There are two types of Statistic. \n",
    "     1> Description Statistic 2> Inferencial Statistic \n",
    "    \n",
    " 1> Description Statistic :- In the descriptive Statistics, the Data is described in a summarized way. The summarization is done \n",
    "                             from the sample of the population using different parameters like Mean or standard deviation.\n",
    "                             Descriptive Statistics are a way of using charts, graphs, and summary measures to organize, represent,\n",
    "                             and explain a set of Data. \n",
    "    \n",
    "                     Ex : Measurements of contential Tendency(mean,median,mode)\n",
    "                          Measurements of Dispertion(Variance , Std)\n",
    "    \n",
    " 2> Inferencial Statistic :- In the Inferential Statistics, we try to interpret the Meaning of descriptive Statistics.\n",
    "                             After the Data has been collected, analyzed, and summarised we use Inferential Statistics to describe\n",
    "                             the Meaning of the collected Data. \n",
    "\n",
    " \n",
    "   \n"
   ]
  },
  {
   "cell_type": "markdown",
   "id": "2ab5da26-5d34-4d36-ae79-23146701e8ff",
   "metadata": {},
   "source": [
    "# Question no.3"
   ]
  },
  {
   "cell_type": "code",
   "execution_count": null,
   "id": "20cc32da-7bb8-45cb-8ad2-11faf591bcc4",
   "metadata": {},
   "outputs": [],
   "source": [
    ">. Define the different types of statistics and give an example of when each type might be used."
   ]
  },
  {
   "cell_type": "code",
   "execution_count": null,
   "id": "c3b93366-a022-4651-94d8-725e9911a7cb",
   "metadata": {},
   "outputs": [],
   "source": [
    "Ans>>  There are two types of data \n",
    "1> Quantitative Data   2> Qualitative Data \n",
    "\n",
    "1> Quantitative Data :- Quantitative data is also known as numerical data which represents the numerical value \n",
    "                        Numerical data gives information about the quantities of a specific thing. \n",
    "           \n",
    "                Ex :  Hieght , length, size , wieght etc.\n",
    "\n",
    "2> Qualitative Data :- Qualitative data, also known as the categorical data, describes the data that fits into the categories. \n",
    "                       Qualitative data are not numerical. The categorical information involves categorical variables that describe\n",
    "                       the features such as a person’s gender, home town etc.\n",
    "                \n",
    "            \n",
    "                 Ex :  gender, home town etc.\n",
    "                \n"
   ]
  },
  {
   "cell_type": "markdown",
   "id": "fc953402-585c-4cfe-a507-6e51fc096607",
   "metadata": {},
   "source": [
    "# Question no.4"
   ]
  },
  {
   "cell_type": "code",
   "execution_count": null,
   "id": "e589c147-32f5-46de-a96d-aa71991d8db0",
   "metadata": {},
   "outputs": [],
   "source": [
    "  > Categorise the following datasets with respect to quantitative and qualitative data types:"
   ]
  },
  {
   "cell_type": "code",
   "execution_count": null,
   "id": "db9e5304-5440-4474-8480-964ed579e069",
   "metadata": {},
   "outputs": [],
   "source": [
    " (i) Grading in exam: A+, A, B+, B, C+, C, D, E\n",
    "     Ans> Qualitative (Nominals)    \n",
    "\n",
    "(ii) Colour of mangoes: yellow, green, orange, red\n",
    "     Ans> Qualitative (Nominals) \n",
    "    \n",
    "(iii) Height data of a class: [178.9, 179, 179.5, 176, 177.2, 178.3, 175.8,...]\n",
    "      Ans> Quantitative(Continue)\n",
    "    \n",
    "(iv) Number of mangoes exported by a farm: [500, 600, 478, 672, ...]\n",
    "     Ans> Quantitative(Discrete)"
   ]
  },
  {
   "cell_type": "markdown",
   "id": "b0c2be17-09d3-4bd3-8626-095476d73e69",
   "metadata": {},
   "source": [
    "# Question no.5"
   ]
  },
  {
   "cell_type": "code",
   "execution_count": null,
   "id": "2b73d556-51d1-48b2-a106-95fd10f78d37",
   "metadata": {},
   "outputs": [],
   "source": [
    "Explain the concept of levels of measurement and give an example of a variable for each level."
   ]
  },
  {
   "cell_type": "code",
   "execution_count": null,
   "id": "3cad7348-7493-45b8-b4ca-cf6f326a7148",
   "metadata": {},
   "outputs": [],
   "source": [
    "Nominal: the data can only be categorized\n",
    "  Ex : colours(red,green,yellow, etc.) , gender(male,female)\n",
    "    \n",
    "Ordinal: the data can be categorized and ranked\n",
    "  Ex : customer reviews (best,good,bad) , race(1st,2nd,3rd)\n",
    "    \n",
    "Interval: the data can be categorized, ranked, and evenly spaced\n",
    "  Ex : temperature\n",
    "    \n",
    "Ratio: the data can be categorized, ranked, evenly spaced, and has a natural zero\n",
    "  Ex : student work in a class"
   ]
  },
  {
   "cell_type": "markdown",
   "id": "00e9e645-9e48-425d-bf7d-86cf23581341",
   "metadata": {},
   "source": [
    "# Question no.6"
   ]
  },
  {
   "cell_type": "code",
   "execution_count": null,
   "id": "f1571519-cd90-4b54-8cbd-21249756aeac",
   "metadata": {},
   "outputs": [],
   "source": [
    "Why is it important to understand the level of measurement when analyzing data? Provide an\n",
    "example to illustrate your answer."
   ]
  },
  {
   "cell_type": "code",
   "execution_count": null,
   "id": "84e653f1-ba5a-4769-be30-2557b7903be5",
   "metadata": {},
   "outputs": [],
   "source": [
    "Ans>  It is important to understand the level of measurement of variables in research, because the level of measurement\n",
    "      determines the type of statistical analysis that can be conducted, and, therefore, the type of conclusions that can \n",
    "      be drawn from the research.\n",
    "          \n",
    "Example: \n",
    "        \n",
    "        Review of any product (best,good,bad). It is given that level of measurement, in which scale follow the data and give \n",
    "        spacific information of data  \n",
    "         \n",
    "        \n",
    "        \n",
    "            \n",
    "            "
   ]
  },
  {
   "cell_type": "markdown",
   "id": "ebc95ab2-65ef-4e2b-a445-efb336b1a400",
   "metadata": {},
   "source": [
    "# Question no.7"
   ]
  },
  {
   "cell_type": "code",
   "execution_count": null,
   "id": "2dbf1ca0-8faf-4df9-a7c6-677685bb903c",
   "metadata": {},
   "outputs": [],
   "source": [
    "How nominal data type is different from ordinal data type."
   ]
  },
  {
   "cell_type": "code",
   "execution_count": null,
   "id": "7f17e371-8e1c-4563-bd49-f40c022805cd",
   "metadata": {},
   "outputs": [],
   "source": [
    "In nominal data order of data doen not matter but in ordinal data order and ranking is important "
   ]
  },
  {
   "cell_type": "markdown",
   "id": "08bc8c50-7f12-4d00-ad49-2a65d514be78",
   "metadata": {},
   "source": [
    "# Question no.8"
   ]
  },
  {
   "cell_type": "code",
   "execution_count": null,
   "id": "40f61117-9ff8-4b2e-a2d3-d0874542ad2d",
   "metadata": {},
   "outputs": [],
   "source": [
    "Which type of plot can be used to display data in terms of range?"
   ]
  },
  {
   "cell_type": "code",
   "execution_count": null,
   "id": "3da37d86-5ac9-4eba-903b-a7aefe9351f8",
   "metadata": {},
   "outputs": [],
   "source": [
    "Histogram and box plot are to display the range of data"
   ]
  },
  {
   "cell_type": "markdown",
   "id": "a7cf6a45-1607-45e7-874d-ca4078c4a958",
   "metadata": {},
   "source": [
    "# Question no.9"
   ]
  },
  {
   "cell_type": "code",
   "execution_count": null,
   "id": "3682719d-2fc0-4268-806c-77d2f052cc4a",
   "metadata": {},
   "outputs": [],
   "source": [
    "Describe the difference between descriptive and inferential statistics. Give an example of each\n",
    "type of statistics and explain how they are used."
   ]
  },
  {
   "cell_type": "code",
   "execution_count": null,
   "id": "168b42c1-bb63-4919-8154-3917e85a7734",
   "metadata": {},
   "outputs": [],
   "source": [
    "\t     Descriptive Statistics\t                                         Inferential Statistics\n",
    "    \n",
    "    \n",
    "1.\tIt gives information about raw data which describes the       It makes inferences about the population using data drawn \n",
    "    data in some manner.                                          from the population.\n",
    "    \t                                     \n",
    "2.\tIt helps in organizing, analyzing, and to present data        It allows us to compare data, and make hypotheses and predictions.\n",
    "    in a meaningful manner.\t\n",
    "    \n",
    "3.\tIt is used to describe a situation.                           It is used to explain the chance of occurrence of an event.\n",
    "\n",
    "\n",
    "4.\tIt explains already known data and is limited to a sample     It attempts to reach the conclusion about the population.\n",
    "    or population having a small size.\n",
    "    \n",
    "    \n",
    "5.\tIt can be achieved with the help of charts, graphs,           It can be achieved by probability.\n",
    "    tables, etc.\n",
    "    \n",
    "    Ex : You collect data on the SAT scores of all 11th           Ex : You randomly select a sample of 11th graders in your state and collect \n",
    "         graders in a school for three years.                          data on their SAT scores and other characteristics\n",
    "                                                                \n",
    "         \n",
    "    \n",
    "    \n",
    "    \n",
    "    \n",
    "    "
   ]
  },
  {
   "cell_type": "markdown",
   "id": "cca2731a-b057-4995-b9ec-2a6cd3ee507e",
   "metadata": {},
   "source": [
    "# Question no.10"
   ]
  },
  {
   "cell_type": "code",
   "execution_count": null,
   "id": "50827750-bae3-4ea8-bbea-5ea3d4f366f9",
   "metadata": {},
   "outputs": [],
   "source": [
    "What are some common measures of central tendency and variability used in statistics? Explain\n",
    "how each measure can be used to describe a dataset."
   ]
  },
  {
   "cell_type": "code",
   "execution_count": null,
   "id": "273b6da8-4e2d-40f6-ab8a-40b278aff180",
   "metadata": {},
   "outputs": [],
   "source": [
    "Ans > Some common measures of central tendency and variability used in statistics is mean , median and mode"
   ]
  },
  {
   "cell_type": "code",
   "execution_count": 1,
   "id": "4e3e471f-29e0-44db-8167-b5ccc70f389f",
   "metadata": {},
   "outputs": [
    {
     "data": {
      "text/plain": [
       "61.142857142857146"
      ]
     },
     "execution_count": 1,
     "metadata": {},
     "output_type": "execute_result"
    }
   ],
   "source": [
    "# use of mean through python\n",
    "age = [45,67,65,78,39,87,47]\n",
    "import numpy as np\n",
    "np.mean(age)\n"
   ]
  },
  {
   "cell_type": "code",
   "execution_count": 3,
   "id": "48147730-282d-4c95-9e75-cb8a6b270c5c",
   "metadata": {},
   "outputs": [
    {
     "data": {
      "text/plain": [
       "65.0"
      ]
     },
     "execution_count": 3,
     "metadata": {},
     "output_type": "execute_result"
    }
   ],
   "source": [
    "# use of median through python\n",
    "age = [45,67,65,78,39,87,47,45, 67, 65,45, 87]\n",
    "import numpy as np\n",
    "np.median(age)"
   ]
  },
  {
   "cell_type": "code",
   "execution_count": 5,
   "id": "4166dd63-66a7-448e-b9d5-30db281afd42",
   "metadata": {},
   "outputs": [
    {
     "name": "stderr",
     "output_type": "stream",
     "text": [
      "/tmp/ipykernel_99/3470478648.py:4: FutureWarning: Unlike other reduction functions (e.g. `skew`, `kurtosis`), the default behavior of `mode` typically preserves the axis it acts along. In SciPy 1.11.0, this behavior will change: the default value of `keepdims` will become False, the `axis` over which the statistic is taken will be eliminated, and the value None will no longer be accepted. Set `keepdims` to True or False to avoid this warning.\n",
      "  stats.mode(age)\n"
     ]
    },
    {
     "data": {
      "text/plain": [
       "ModeResult(mode=array([45]), count=array([3]))"
      ]
     },
     "execution_count": 5,
     "metadata": {},
     "output_type": "execute_result"
    }
   ],
   "source": [
    "# use of mode through python\n",
    "age = [45,67,65,78,39,87,47,45, 67, 65,45, 87]\n",
    "from scipy import stats\n",
    "stats.mode(age)"
   ]
  },
  {
   "cell_type": "code",
   "execution_count": null,
   "id": "2a161f56-1ded-42d8-9f03-17ead521ae88",
   "metadata": {},
   "outputs": [],
   "source": []
  }
 ],
 "metadata": {
  "kernelspec": {
   "display_name": "Python 3 (ipykernel)",
   "language": "python",
   "name": "python3"
  },
  "language_info": {
   "codemirror_mode": {
    "name": "ipython",
    "version": 3
   },
   "file_extension": ".py",
   "mimetype": "text/x-python",
   "name": "python",
   "nbconvert_exporter": "python",
   "pygments_lexer": "ipython3",
   "version": "3.10.6"
  }
 },
 "nbformat": 4,
 "nbformat_minor": 5
}
